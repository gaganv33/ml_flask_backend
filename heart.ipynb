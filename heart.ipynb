{
 "cells": [
  {
   "cell_type": "code",
   "execution_count": 1,
   "metadata": {},
   "outputs": [],
   "source": [
    "import numpy as np\n",
    "import pandas as pd\n",
    "import matplotlib.pyplot as plt\n",
    "import tensorflow\n",
    "import seaborn as sns"
   ]
  },
  {
   "cell_type": "code",
   "execution_count": 2,
   "metadata": {},
   "outputs": [],
   "source": [
    "data = pd.read_csv(\"./data/heart.csv\")"
   ]
  },
  {
   "cell_type": "code",
   "execution_count": 3,
   "metadata": {},
   "outputs": [
    {
     "data": {
      "text/plain": [
       "(1025, 14)"
      ]
     },
     "execution_count": 3,
     "metadata": {},
     "output_type": "execute_result"
    }
   ],
   "source": [
    "data.shape"
   ]
  },
  {
   "cell_type": "code",
   "execution_count": 4,
   "metadata": {},
   "outputs": [
    {
     "data": {
      "text/html": [
       "<div>\n",
       "<style scoped>\n",
       "    .dataframe tbody tr th:only-of-type {\n",
       "        vertical-align: middle;\n",
       "    }\n",
       "\n",
       "    .dataframe tbody tr th {\n",
       "        vertical-align: top;\n",
       "    }\n",
       "\n",
       "    .dataframe thead th {\n",
       "        text-align: right;\n",
       "    }\n",
       "</style>\n",
       "<table border=\"1\" class=\"dataframe\">\n",
       "  <thead>\n",
       "    <tr style=\"text-align: right;\">\n",
       "      <th></th>\n",
       "      <th>age</th>\n",
       "      <th>sex</th>\n",
       "      <th>cp</th>\n",
       "      <th>trestbps</th>\n",
       "      <th>chol</th>\n",
       "      <th>fbs</th>\n",
       "      <th>restecg</th>\n",
       "      <th>thalach</th>\n",
       "      <th>exang</th>\n",
       "      <th>oldpeak</th>\n",
       "      <th>slope</th>\n",
       "      <th>ca</th>\n",
       "      <th>thal</th>\n",
       "      <th>target</th>\n",
       "    </tr>\n",
       "  </thead>\n",
       "  <tbody>\n",
       "    <tr>\n",
       "      <th>0</th>\n",
       "      <td>52</td>\n",
       "      <td>1</td>\n",
       "      <td>0</td>\n",
       "      <td>125</td>\n",
       "      <td>212</td>\n",
       "      <td>0</td>\n",
       "      <td>1</td>\n",
       "      <td>168</td>\n",
       "      <td>0</td>\n",
       "      <td>1.0</td>\n",
       "      <td>2</td>\n",
       "      <td>2</td>\n",
       "      <td>3</td>\n",
       "      <td>0</td>\n",
       "    </tr>\n",
       "    <tr>\n",
       "      <th>1</th>\n",
       "      <td>53</td>\n",
       "      <td>1</td>\n",
       "      <td>0</td>\n",
       "      <td>140</td>\n",
       "      <td>203</td>\n",
       "      <td>1</td>\n",
       "      <td>0</td>\n",
       "      <td>155</td>\n",
       "      <td>1</td>\n",
       "      <td>3.1</td>\n",
       "      <td>0</td>\n",
       "      <td>0</td>\n",
       "      <td>3</td>\n",
       "      <td>0</td>\n",
       "    </tr>\n",
       "    <tr>\n",
       "      <th>2</th>\n",
       "      <td>70</td>\n",
       "      <td>1</td>\n",
       "      <td>0</td>\n",
       "      <td>145</td>\n",
       "      <td>174</td>\n",
       "      <td>0</td>\n",
       "      <td>1</td>\n",
       "      <td>125</td>\n",
       "      <td>1</td>\n",
       "      <td>2.6</td>\n",
       "      <td>0</td>\n",
       "      <td>0</td>\n",
       "      <td>3</td>\n",
       "      <td>0</td>\n",
       "    </tr>\n",
       "    <tr>\n",
       "      <th>3</th>\n",
       "      <td>61</td>\n",
       "      <td>1</td>\n",
       "      <td>0</td>\n",
       "      <td>148</td>\n",
       "      <td>203</td>\n",
       "      <td>0</td>\n",
       "      <td>1</td>\n",
       "      <td>161</td>\n",
       "      <td>0</td>\n",
       "      <td>0.0</td>\n",
       "      <td>2</td>\n",
       "      <td>1</td>\n",
       "      <td>3</td>\n",
       "      <td>0</td>\n",
       "    </tr>\n",
       "    <tr>\n",
       "      <th>4</th>\n",
       "      <td>62</td>\n",
       "      <td>0</td>\n",
       "      <td>0</td>\n",
       "      <td>138</td>\n",
       "      <td>294</td>\n",
       "      <td>1</td>\n",
       "      <td>1</td>\n",
       "      <td>106</td>\n",
       "      <td>0</td>\n",
       "      <td>1.9</td>\n",
       "      <td>1</td>\n",
       "      <td>3</td>\n",
       "      <td>2</td>\n",
       "      <td>0</td>\n",
       "    </tr>\n",
       "  </tbody>\n",
       "</table>\n",
       "</div>"
      ],
      "text/plain": [
       "   age  sex  cp  trestbps  chol  fbs  restecg  thalach  exang  oldpeak  slope  \\\n",
       "0   52    1   0       125   212    0        1      168      0      1.0      2   \n",
       "1   53    1   0       140   203    1        0      155      1      3.1      0   \n",
       "2   70    1   0       145   174    0        1      125      1      2.6      0   \n",
       "3   61    1   0       148   203    0        1      161      0      0.0      2   \n",
       "4   62    0   0       138   294    1        1      106      0      1.9      1   \n",
       "\n",
       "   ca  thal  target  \n",
       "0   2     3       0  \n",
       "1   0     3       0  \n",
       "2   0     3       0  \n",
       "3   1     3       0  \n",
       "4   3     2       0  "
      ]
     },
     "execution_count": 4,
     "metadata": {},
     "output_type": "execute_result"
    }
   ],
   "source": [
    "data.head()"
   ]
  },
  {
   "cell_type": "code",
   "execution_count": 5,
   "metadata": {},
   "outputs": [
    {
     "name": "stdout",
     "output_type": "stream",
     "text": [
      "[526, 499]\n"
     ]
    }
   ],
   "source": [
    "healthy_or_not = data['target'].value_counts().to_list()\n",
    "print(healthy_or_not)"
   ]
  },
  {
   "cell_type": "code",
   "execution_count": 6,
   "metadata": {},
   "outputs": [
    {
     "data": {
      "image/png": "[encoded data removed]",
      "text/plain": [
       "<Figure size 640x480 with 1 Axes>"
      ]
     },
     "metadata": {},
     "output_type": "display_data"
    }
   ],
   "source": [
    "plt.pie(healthy_or_not, labels=['healthy', 'heart disease'])\n",
    "plt.show()"
   ]
  },
  {
   "cell_type": "code",
   "execution_count": 7,
   "metadata": {},
   "outputs": [
    {
     "data": {
      "text/plain": [
       "age         0\n",
       "sex         0\n",
       "cp          0\n",
       "trestbps    0\n",
       "chol        0\n",
       "fbs         0\n",
       "restecg     0\n",
       "thalach     0\n",
       "exang       0\n",
       "oldpeak     0\n",
       "slope       0\n",
       "ca          0\n",
       "thal        0\n",
       "target      0\n",
       "dtype: int64"
      ]
     },
     "execution_count": 7,
     "metadata": {},
     "output_type": "execute_result"
    }
   ],
   "source": [
    "data.isnull().sum()"
   ]
  },
  {
   "cell_type": "code",
   "execution_count": 8,
   "metadata": {},
   "outputs": [],
   "source": [
    "numerical_columns = ['age', 'trestbps', 'chol', 'thalach', 'oldpeak']"
   ]
  },
  {
   "cell_type": "code",
   "execution_count": 9,
   "metadata": {},
   "outputs": [
    {
     "data": {
      "image/png": "[encoded data removed]",
      "text/plain": [
       "<Figure size 640x480 with 1 Axes>"
      ]
     },
     "metadata": {},
     "output_type": "display_data"
    },
    {
     "data": {
      "image/png": "[encoded data removed]",
      "text/plain": [
       "<Figure size 640x480 with 1 Axes>"
      ]
     },
     "metadata": {},
     "output_type": "display_data"
    },
    {
     "data": {
      "image/png": "[encoded data removed]",
      "text/plain": [
       "<Figure size 640x480 with 1 Axes>"
      ]
     },
     "metadata": {},
     "output_type": "display_data"
    },
    {
     "data": {
      "image/png": "[encoded data removed]",
      "text/plain": [
       "<Figure size 640x480 with 1 Axes>"
      ]
     },
     "metadata": {},
     "output_type": "display_data"
    },
    {
     "data": {
      "image/png": "[encoded data removed]",
      "text/plain": [
       "<Figure size 640x480 with 1 Axes>"
      ]
     },
     "metadata": {},
     "output_type": "display_data"
    }
   ],
   "source": [
    "for col in numerical_columns:\n",
    "    if col != 'target':\n",
    "        sns.boxplot(data=data[col])\n",
    "        plt.title(col)\n",
    "        plt.show()"
   ]
  },
  {
   "cell_type": "code",
   "execution_count": 10,
   "metadata": {},
   "outputs": [],
   "source": [
    "from collections import Counter\n",
    "def iqr_method(df, n, features):\n",
    "    outlier_list = []\n",
    "    for col in features:\n",
    "        q1 = np.percentile(df[col], 25)\n",
    "        q3 = np.percentile(df[col], 75)\n",
    "        iqr = q3 - q1\n",
    "\n",
    "        max_limit = q3 + (1.5 * iqr)\n",
    "        min_limit = q1 - (1.5 * iqr)\n",
    "\n",
    "        outlier_column_list = df[(df[col] < min_limit) | (df[col] > max_limit)].index\n",
    "        outlier_list.extend(outlier_column_list)\n",
    "\n",
    "    outlier_list = Counter(outlier_list)\n",
    "    multiple_outliers = list( k for k, v in outlier_list.items() if v > n )\n",
    "    \n",
    "    df1 = df[df[col] < min_limit]\n",
    "    df2 = df[df[col] > max_limit]\n",
    "    \n",
    "    print('Total number of outliers is:', df1.shape[0]+df2.shape[0])\n",
    "    \n",
    "    return multiple_outliers"
   ]
  },
  {
   "cell_type": "code",
   "execution_count": 11,
   "metadata": {},
   "outputs": [
    {
     "name": "stdout",
     "output_type": "stream",
     "text": [
      "Total number of outliers is: 7\n"
     ]
    }
   ],
   "source": [
    "outliers = iqr_method(data, 1, numerical_columns)\n",
    "data = data.drop(outliers, axis=0).reset_index(drop=True)"
   ]
  },
  {
   "cell_type": "code",
   "execution_count": 12,
   "metadata": {},
   "outputs": [],
   "source": [
    "df = pd.get_dummies(data, drop_first=True)"
   ]
  },
  {
   "cell_type": "code",
   "execution_count": 13,
   "metadata": {},
   "outputs": [
    {
     "data": {
      "text/html": [
       "<div>\n",
       "<style scoped>\n",
       "    .dataframe tbody tr th:only-of-type {\n",
       "        vertical-align: middle;\n",
       "    }\n",
       "\n",
       "    .dataframe tbody tr th {\n",
       "        vertical-align: top;\n",
       "    }\n",
       "\n",
       "    .dataframe thead th {\n",
       "        text-align: right;\n",
       "    }\n",
       "</style>\n",
       "<table border=\"1\" class=\"dataframe\">\n",
       "  <thead>\n",
       "    <tr style=\"text-align: right;\">\n",
       "      <th></th>\n",
       "      <th>age</th>\n",
       "      <th>sex</th>\n",
       "      <th>cp</th>\n",
       "      <th>trestbps</th>\n",
       "      <th>chol</th>\n",
       "      <th>fbs</th>\n",
       "      <th>restecg</th>\n",
       "      <th>thalach</th>\n",
       "      <th>exang</th>\n",
       "      <th>oldpeak</th>\n",
       "      <th>slope</th>\n",
       "      <th>ca</th>\n",
       "      <th>thal</th>\n",
       "      <th>target</th>\n",
       "    </tr>\n",
       "  </thead>\n",
       "  <tbody>\n",
       "    <tr>\n",
       "      <th>0</th>\n",
       "      <td>52</td>\n",
       "      <td>1</td>\n",
       "      <td>0</td>\n",
       "      <td>125</td>\n",
       "      <td>212</td>\n",
       "      <td>0</td>\n",
       "      <td>1</td>\n",
       "      <td>168</td>\n",
       "      <td>0</td>\n",
       "      <td>1.0</td>\n",
       "      <td>2</td>\n",
       "      <td>2</td>\n",
       "      <td>3</td>\n",
       "      <td>0</td>\n",
       "    </tr>\n",
       "    <tr>\n",
       "      <th>1</th>\n",
       "      <td>53</td>\n",
       "      <td>1</td>\n",
       "      <td>0</td>\n",
       "      <td>140</td>\n",
       "      <td>203</td>\n",
       "      <td>1</td>\n",
       "      <td>0</td>\n",
       "      <td>155</td>\n",
       "      <td>1</td>\n",
       "      <td>3.1</td>\n",
       "      <td>0</td>\n",
       "      <td>0</td>\n",
       "      <td>3</td>\n",
       "      <td>0</td>\n",
       "    </tr>\n",
       "    <tr>\n",
       "      <th>2</th>\n",
       "      <td>70</td>\n",
       "      <td>1</td>\n",
       "      <td>0</td>\n",
       "      <td>145</td>\n",
       "      <td>174</td>\n",
       "      <td>0</td>\n",
       "      <td>1</td>\n",
       "      <td>125</td>\n",
       "      <td>1</td>\n",
       "      <td>2.6</td>\n",
       "      <td>0</td>\n",
       "      <td>0</td>\n",
       "      <td>3</td>\n",
       "      <td>0</td>\n",
       "    </tr>\n",
       "    <tr>\n",
       "      <th>3</th>\n",
       "      <td>61</td>\n",
       "      <td>1</td>\n",
       "      <td>0</td>\n",
       "      <td>148</td>\n",
       "      <td>203</td>\n",
       "      <td>0</td>\n",
       "      <td>1</td>\n",
       "      <td>161</td>\n",
       "      <td>0</td>\n",
       "      <td>0.0</td>\n",
       "      <td>2</td>\n",
       "      <td>1</td>\n",
       "      <td>3</td>\n",
       "      <td>0</td>\n",
       "    </tr>\n",
       "    <tr>\n",
       "      <th>4</th>\n",
       "      <td>62</td>\n",
       "      <td>0</td>\n",
       "      <td>0</td>\n",
       "      <td>138</td>\n",
       "      <td>294</td>\n",
       "      <td>1</td>\n",
       "      <td>1</td>\n",
       "      <td>106</td>\n",
       "      <td>0</td>\n",
       "      <td>1.9</td>\n",
       "      <td>1</td>\n",
       "      <td>3</td>\n",
       "      <td>2</td>\n",
       "      <td>0</td>\n",
       "    </tr>\n",
       "  </tbody>\n",
       "</table>\n",
       "</div>"
      ],
      "text/plain": [
       "   age  sex  cp  trestbps  chol  fbs  restecg  thalach  exang  oldpeak  slope  \\\n",
       "0   52    1   0       125   212    0        1      168      0      1.0      2   \n",
       "1   53    1   0       140   203    1        0      155      1      3.1      0   \n",
       "2   70    1   0       145   174    0        1      125      1      2.6      0   \n",
       "3   61    1   0       148   203    0        1      161      0      0.0      2   \n",
       "4   62    0   0       138   294    1        1      106      0      1.9      1   \n",
       "\n",
       "   ca  thal  target  \n",
       "0   2     3       0  \n",
       "1   0     3       0  \n",
       "2   0     3       0  \n",
       "3   1     3       0  \n",
       "4   3     2       0  "
      ]
     },
     "execution_count": 13,
     "metadata": {},
     "output_type": "execute_result"
    }
   ],
   "source": [
    "df.head()"
   ]
  },
  {
   "cell_type": "code",
   "execution_count": 14,
   "metadata": {},
   "outputs": [],
   "source": [
    "x = df.drop('target', axis=1)\n",
    "y = df['target']"
   ]
  },
  {
   "cell_type": "code",
   "execution_count": 15,
   "metadata": {},
   "outputs": [
    {
     "data": {
      "text/plain": [
       "((1025, 13), (1025,))"
      ]
     },
     "execution_count": 15,
     "metadata": {},
     "output_type": "execute_result"
    }
   ],
   "source": [
    "x.shape, y.shape"
   ]
  },
  {
   "cell_type": "code",
   "execution_count": 16,
   "metadata": {},
   "outputs": [],
   "source": [
    "from sklearn.model_selection import train_test_split\n",
    "X_train, X_test, y_train, y_test = train_test_split(x, y, stratify=y, test_size = 0.3, random_state = 42)"
   ]
  },
  {
   "cell_type": "code",
   "execution_count": 17,
   "metadata": {},
   "outputs": [
    {
     "data": {
      "text/plain": [
       "((717, 13), (717,), (308, 13), (308,))"
      ]
     },
     "execution_count": 17,
     "metadata": {},
     "output_type": "execute_result"
    }
   ],
   "source": [
    "X_train.shape, y_train.shape, X_test.shape, y_test.shape"
   ]
  },
  {
   "cell_type": "code",
   "execution_count": 18,
   "metadata": {},
   "outputs": [],
   "source": [
    "from sklearn.preprocessing import StandardScaler"
   ]
  },
  {
   "cell_type": "code",
   "execution_count": 19,
   "metadata": {},
   "outputs": [
    {
     "data": {
      "text/plain": [
       "['age', 'trestbps', 'chol', 'thalach', 'oldpeak']"
      ]
     },
     "execution_count": 19,
     "metadata": {},
     "output_type": "execute_result"
    }
   ],
   "source": [
    "numerical_columns"
   ]
  },
  {
   "cell_type": "code",
   "execution_count": 20,
   "metadata": {},
   "outputs": [],
   "source": [
    "scaler = StandardScaler().fit(X_train[numerical_columns].values)"
   ]
  },
  {
   "cell_type": "code",
   "execution_count": 21,
   "metadata": {},
   "outputs": [],
   "source": [
    "X_train[numerical_columns] = scaler.fit_transform(X_train[numerical_columns].values)\n",
    "X_test[numerical_columns] = scaler.fit_transform(X_test[numerical_columns].values)"
   ]
  },
  {
   "cell_type": "code",
   "execution_count": 22,
   "metadata": {},
   "outputs": [
    {
     "data": {
      "text/plain": [
       "(717, 13)"
      ]
     },
     "execution_count": 22,
     "metadata": {},
     "output_type": "execute_result"
    }
   ],
   "source": [
    "X_train.shape"
   ]
  },
  {
   "cell_type": "code",
   "execution_count": 23,
   "metadata": {},
   "outputs": [],
   "source": [
    "from tensorflow.keras import Sequential\n",
    "from tensorflow.keras.layers import Dense, BatchNormalization, Flatten"
   ]
  },
  {
   "cell_type": "code",
   "execution_count": 24,
   "metadata": {},
   "outputs": [],
   "source": [
    "model = Sequential([\n",
    "    tensorflow.keras.Input(shape=(13)),\n",
    "    Dense(256, activation='relu', kernel_initializer='he_normal'),\n",
    "    BatchNormalization(),\n",
    "    Dense(128, activation='relu', kernel_initializer='he_normal'),\n",
    "    BatchNormalization(),\n",
    "    Dense(64, activation='relu', kernel_initializer='he_normal'),\n",
    "    BatchNormalization(),\n",
    "    Dense(32, activation='relu', kernel_initializer='he_normal'),\n",
    "    BatchNormalization(),\n",
    "    Dense(16, activation='relu', kernel_initializer='he_normal'),\n",
    "    BatchNormalization(),\n",
    "    Dense(8, activation='relu', kernel_initializer='he_normal'),\n",
    "    BatchNormalization(),\n",
    "    Dense(4, activation='relu', kernel_initializer='he_normal'),\n",
    "    Dense(2, activation='softmax', kernel_initializer='he_normal')\n",
    "])"
   ]
  },
  {
   "cell_type": "code",
   "execution_count": 25,
   "metadata": {},
   "outputs": [
    {
     "name": "stdout",
     "output_type": "stream",
     "text": [
      "Model: \"sequential\"\n",
      "_________________________________________________________________\n",
      " Layer (type)                Output Shape              Param #   \n",
      "=================================================================\n",
      " dense (Dense)               (None, 256)               3584      \n",
      "                                                                 \n",
      " batch_normalization (BatchN  (None, 256)              1024      \n",
      " ormalization)                                                   \n",
      "                                                                 \n",
      " dense_1 (Dense)             (None, 128)               32896     \n",
      "                                                                 \n",
      " batch_normalization_1 (Batc  (None, 128)              512       \n",
      " hNormalization)                                                 \n",
      "                                                                 \n",
      " dense_2 (Dense)             (None, 64)                8256      \n",
      "                                                                 \n",
      " batch_normalization_2 (Batc  (None, 64)               256       \n",
      " hNormalization)                                                 \n",
      "                                                                 \n",
      " dense_3 (Dense)             (None, 32)                2080      \n",
      "                                                                 \n",
      " batch_normalization_3 (Batc  (None, 32)               128       \n",
      " hNormalization)                                                 \n",
      "                                                                 \n",
      " dense_4 (Dense)             (None, 16)                528       \n",
      "                                                                 \n",
      " batch_normalization_4 (Batc  (None, 16)               64        \n",
      " hNormalization)                                                 \n",
      "                                                                 \n",
      " dense_5 (Dense)             (None, 8)                 136       \n",
      "                                                                 \n",
      " batch_normalization_5 (Batc  (None, 8)                32        \n",
      " hNormalization)                                                 \n",
      "                                                                 \n",
      " dense_6 (Dense)             (None, 4)                 36        \n",
      "                                                                 \n",
      " dense_7 (Dense)             (None, 2)                 10        \n",
      "                                                                 \n",
      "=================================================================\n",
      "Total params: 49,542\n",
      "Trainable params: 48,534\n",
      "Non-trainable params: 1,008\n",
      "_________________________________________________________________\n"
     ]
    }
   ],
   "source": [
    "model.summary()"
   ]
  },
  {
   "cell_type": "code",
   "execution_count": 26,
   "metadata": {},
   "outputs": [],
   "source": [
    "model.compile( optimizer=\"adam\" , loss=\"binary_crossentropy\" , metrics=[\"accuracy\", tensorflow.keras.metrics.AUC()])"
   ]
  },
  {
   "cell_type": "code",
   "execution_count": 27,
   "metadata": {},
   "outputs": [],
   "source": [
    "y_train = pd.get_dummies(y_train)\n",
    "y_test = pd.get_dummies(y_test)"
   ]
  },
  {
   "cell_type": "code",
   "execution_count": 28,
   "metadata": {},
   "outputs": [
    {
     "name": "stdout",
     "output_type": "stream",
     "text": [
      "Epoch 1/50\n",
      "23/23 [==============================] - 2s 6ms/step - loss: 0.6937 - accuracy: 0.6987 - auc: 0.7544\n",
      "Epoch 2/50\n",
      "23/23 [==============================] - 0s 5ms/step - loss: 0.5056 - accuracy: 0.8271 - auc: 0.9164\n",
      "Epoch 3/50\n",
      "23/23 [==============================] - 0s 5ms/step - loss: 0.4385 - accuracy: 0.8703 - auc: 0.9463\n",
      "Epoch 4/50\n",
      "23/23 [==============================] - 0s 5ms/step - loss: 0.3784 - accuracy: 0.9177 - auc: 0.9658\n",
      "Epoch 5/50\n",
      "23/23 [==============================] - 0s 5ms/step - loss: 0.3386 - accuracy: 0.9191 - auc: 0.9715\n",
      "Epoch 6/50\n",
      "23/23 [==============================] - 0s 5ms/step - loss: 0.2795 - accuracy: 0.9512 - auc: 0.9847\n",
      "Epoch 7/50\n",
      "23/23 [==============================] - 0s 5ms/step - loss: 0.2636 - accuracy: 0.9470 - auc: 0.9822\n",
      "Epoch 8/50\n",
      "23/23 [==============================] - 0s 5ms/step - loss: 0.2303 - accuracy: 0.9498 - auc: 0.9870\n",
      "Epoch 9/50\n",
      "23/23 [==============================] - 0s 5ms/step - loss: 0.1786 - accuracy: 0.9749 - auc: 0.9961\n",
      "Epoch 10/50\n",
      "23/23 [==============================] - 0s 6ms/step - loss: 0.1590 - accuracy: 0.9651 - auc: 0.9951\n",
      "Epoch 11/50\n",
      "23/23 [==============================] - 0s 5ms/step - loss: 0.1630 - accuracy: 0.9582 - auc: 0.9931\n",
      "Epoch 12/50\n",
      "23/23 [==============================] - 0s 5ms/step - loss: 0.1357 - accuracy: 0.9721 - auc: 0.9952\n",
      "Epoch 13/50\n",
      "23/23 [==============================] - 0s 5ms/step - loss: 0.1123 - accuracy: 0.9707 - auc: 0.9970\n",
      "Epoch 14/50\n",
      "23/23 [==============================] - 0s 5ms/step - loss: 0.0979 - accuracy: 0.9874 - auc: 0.9979\n",
      "Epoch 15/50\n",
      "23/23 [==============================] - 0s 5ms/step - loss: 0.1023 - accuracy: 0.9805 - auc: 0.9895\n",
      "Epoch 16/50\n",
      "23/23 [==============================] - 0s 5ms/step - loss: 0.0710 - accuracy: 0.9861 - auc: 0.9980\n",
      "Epoch 17/50\n",
      "23/23 [==============================] - 0s 5ms/step - loss: 0.0859 - accuracy: 0.9819 - auc: 0.9936\n",
      "Epoch 18/50\n",
      "23/23 [==============================] - 0s 5ms/step - loss: 0.0973 - accuracy: 0.9721 - auc: 0.9943\n",
      "Epoch 19/50\n",
      "23/23 [==============================] - 0s 5ms/step - loss: 0.0535 - accuracy: 0.9930 - auc: 0.9995\n",
      "Epoch 20/50\n",
      "23/23 [==============================] - 0s 5ms/step - loss: 0.0652 - accuracy: 0.9833 - auc: 0.9964\n",
      "Epoch 21/50\n",
      "23/23 [==============================] - 0s 5ms/step - loss: 0.0747 - accuracy: 0.9777 - auc: 0.9932\n",
      "Epoch 22/50\n",
      "23/23 [==============================] - 0s 6ms/step - loss: 0.0637 - accuracy: 0.9847 - auc: 0.9973\n",
      "Epoch 23/50\n",
      "23/23 [==============================] - 0s 5ms/step - loss: 0.0732 - accuracy: 0.9749 - auc: 0.9958\n",
      "Epoch 24/50\n",
      "23/23 [==============================] - 0s 5ms/step - loss: 0.0721 - accuracy: 0.9749 - auc: 0.9967\n",
      "Epoch 25/50\n",
      "23/23 [==============================] - 0s 5ms/step - loss: 0.0533 - accuracy: 0.9861 - auc: 0.9938\n",
      "Epoch 26/50\n",
      "23/23 [==============================] - 0s 5ms/step - loss: 0.0574 - accuracy: 0.9805 - auc: 0.9975\n",
      "Epoch 27/50\n",
      "23/23 [==============================] - 0s 7ms/step - loss: 0.0504 - accuracy: 0.9833 - auc: 0.9978\n",
      "Epoch 28/50\n",
      "23/23 [==============================] - 0s 7ms/step - loss: 0.0646 - accuracy: 0.9777 - auc: 0.9971\n",
      "Epoch 29/50\n",
      "23/23 [==============================] - 0s 6ms/step - loss: 0.0669 - accuracy: 0.9805 - auc: 0.9960\n",
      "Epoch 30/50\n",
      "23/23 [==============================] - 0s 7ms/step - loss: 0.0542 - accuracy: 0.9819 - auc: 0.9963\n",
      "Epoch 31/50\n",
      "23/23 [==============================] - 0s 6ms/step - loss: 0.0680 - accuracy: 0.9777 - auc: 0.9931\n",
      "Epoch 32/50\n",
      "23/23 [==============================] - 0s 7ms/step - loss: 0.0509 - accuracy: 0.9833 - auc: 0.9978\n",
      "Epoch 33/50\n",
      "23/23 [==============================] - 0s 7ms/step - loss: 0.0613 - accuracy: 0.9763 - auc: 0.9936\n",
      "Epoch 34/50\n",
      "23/23 [==============================] - 0s 7ms/step - loss: 0.0661 - accuracy: 0.9791 - auc: 0.9930\n",
      "Epoch 35/50\n",
      "23/23 [==============================] - 0s 6ms/step - loss: 0.0376 - accuracy: 0.9916 - auc: 0.9955\n",
      "Epoch 36/50\n",
      "23/23 [==============================] - 0s 7ms/step - loss: 0.0587 - accuracy: 0.9874 - auc: 0.9911\n",
      "Epoch 37/50\n",
      "23/23 [==============================] - 0s 6ms/step - loss: 0.0403 - accuracy: 0.9902 - auc: 0.9968\n",
      "Epoch 38/50\n",
      "23/23 [==============================] - 0s 7ms/step - loss: 0.0573 - accuracy: 0.9833 - auc: 0.9936\n",
      "Epoch 39/50\n",
      "23/23 [==============================] - 0s 6ms/step - loss: 0.0326 - accuracy: 0.9930 - auc: 0.9971\n",
      "Epoch 40/50\n",
      "23/23 [==============================] - 0s 6ms/step - loss: 0.0368 - accuracy: 0.9888 - auc: 0.9982\n",
      "Epoch 41/50\n",
      "23/23 [==============================] - 0s 6ms/step - loss: 0.0198 - accuracy: 0.9944 - auc: 0.9999\n",
      "Epoch 42/50\n",
      "23/23 [==============================] - 0s 6ms/step - loss: 0.0272 - accuracy: 0.9930 - auc: 0.9984\n",
      "Epoch 43/50\n",
      "23/23 [==============================] - 0s 6ms/step - loss: 0.0271 - accuracy: 0.9930 - auc: 0.9984\n",
      "Epoch 44/50\n",
      "23/23 [==============================] - 0s 7ms/step - loss: 0.0155 - accuracy: 0.9958 - auc: 0.9999\n",
      "Epoch 45/50\n",
      "23/23 [==============================] - 0s 6ms/step - loss: 0.0305 - accuracy: 0.9944 - auc: 0.9956\n",
      "Epoch 46/50\n",
      "23/23 [==============================] - 0s 6ms/step - loss: 0.0396 - accuracy: 0.9874 - auc: 0.9968\n",
      "Epoch 47/50\n",
      "23/23 [==============================] - 0s 6ms/step - loss: 0.0431 - accuracy: 0.9916 - auc: 0.9942\n",
      "Epoch 48/50\n",
      "23/23 [==============================] - 0s 6ms/step - loss: 0.0316 - accuracy: 0.9916 - auc: 0.9956\n",
      "Epoch 49/50\n",
      "23/23 [==============================] - 0s 6ms/step - loss: 0.0334 - accuracy: 0.9930 - auc: 0.9970\n",
      "Epoch 50/50\n",
      "23/23 [==============================] - 0s 7ms/step - loss: 0.0208 - accuracy: 0.9958 - auc: 0.9985\n"
     ]
    }
   ],
   "source": [
    "history = model.fit(X_train, y_train, epochs=50, batch_size=32, verbose=1)"
   ]
  },
  {
   "cell_type": "code",
   "execution_count": 29,
   "metadata": {},
   "outputs": [],
   "source": [
    "import os.path\n",
    "if os.path.isfile('models/heart1.h5') is False:\n",
    "    model.save('models/heart1.h5')"
   ]
  },
  {
   "cell_type": "code",
   "execution_count": null,
   "metadata": {},
   "outputs": [],
   "source": []
  }
 ],
 "metadata": {
  "kernelspec": {
   "display_name": "Python 3",
   "language": "python",
   "name": "python3"
  },
  "language_info": {
   "codemirror_mode": {
    "name": "ipython",
    "version": 3
   },
   "file_extension": ".py",
   "mimetype": "text/x-python",
   "name": "python",
   "nbconvert_exporter": "python",
   "pygments_lexer": "ipython3",
   "version": "3.10.6"
  },
  "orig_nbformat": 4
 },
 "nbformat": 4,
 "nbformat_minor": 2
}
