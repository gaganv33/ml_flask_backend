{
 "cells": [
  {
   "cell_type": "code",
   "execution_count": 3,
   "metadata": {},
   "outputs": [],
   "source": [
    "import numpy as np\n",
    "import pandas as pd \n",
    "import matplotlib.pyplot as plt\n",
    "import seaborn as sns\n",
    "import tensorflow as tf\n",
    "from tensorflow import keras\n",
    "import cv2\n",
    "import glob\n",
    "import tensorflow as tf\n",
    "import os\n",
    "IMG_SIZE = 112"
   ]
  },
  {
   "cell_type": "code",
   "execution_count": 4,
   "metadata": {},
   "outputs": [],
   "source": [
    "def get_data(path, class_name):\n",
    "    data = []\n",
    "    for i in range(0, 5):\n",
    "        \n",
    "            files = glob.glob(path+\"/\"+class_name+\"/\"+str(i)+\"/*\")\n",
    "            for f in files:\n",
    "                img = cv2.imread(f)\n",
    "                R, G, B = cv2.split(img)\n",
    "                new_R = cv2.equalizeHist(R)\n",
    "                new_G = cv2.equalizeHist(G)\n",
    "                new_B = cv2.equalizeHist(B)\n",
    "                img = cv2.merge((new_R, new_G, new_B))\n",
    "                img =  cv2.resize(img, (IMG_SIZE, IMG_SIZE))\n",
    "                img = tf.keras.preprocessing.image.random_rotation(img, 5.0)\n",
    "                img = tf.keras.preprocessing.image.random_shear(img, 5.0)\n",
    "                data.append(np.array([np.array(img) / 255.0, i], dtype=object))\n",
    "    np.random.shuffle(data)\n",
    "    return data"
   ]
  },
  {
   "cell_type": "code",
   "execution_count": 5,
   "metadata": {},
   "outputs": [
    {
     "data": {
      "text/plain": [
       "(5778, 2)"
      ]
     },
     "execution_count": 5,
     "metadata": {},
     "output_type": "execute_result"
    }
   ],
   "source": [
    "train_data = get_data(\"data\", \"train\")\n",
    "train_data = np.array(train_data, dtype=object)\n",
    "train_data.shape"
   ]
  },
  {
   "cell_type": "code",
   "execution_count": 6,
   "metadata": {},
   "outputs": [],
   "source": [
    "train_x = []\n",
    "train_y = []\n",
    "for i in range(train_data.shape[0]):\n",
    "    train_x.append(train_data[i][0])\n",
    "    train_y.append(train_data[i][1])\n",
    "train_x = np.array(train_x, ndmin=3)\n",
    "train_y = np.array(train_y, ndmin=1)"
   ]
  },
  {
   "cell_type": "code",
   "execution_count": 7,
   "metadata": {},
   "outputs": [
    {
     "data": {
      "text/plain": [
       "(5778, 112, 112, 3)"
      ]
     },
     "execution_count": 7,
     "metadata": {},
     "output_type": "execute_result"
    }
   ],
   "source": [
    "train_x.shape"
   ]
  },
  {
   "cell_type": "code",
   "execution_count": 8,
   "metadata": {},
   "outputs": [
    {
     "data": {
      "text/plain": [
       "(826, 2)"
      ]
     },
     "execution_count": 8,
     "metadata": {},
     "output_type": "execute_result"
    }
   ],
   "source": [
    "val_data = get_data(\"data\", \"val\")\n",
    "val_data = np.array(val_data, dtype=object)\n",
    "val_data.shape"
   ]
  },
  {
   "cell_type": "code",
   "execution_count": 9,
   "metadata": {},
   "outputs": [],
   "source": [
    "val_x = []\n",
    "val_y = []\n",
    "for i in range(val_data.shape[0]):\n",
    "    val_x.append(val_data[i][0])\n",
    "    val_y.append(val_data[i][1])\n",
    "val_x = np.array(val_x, ndmin=3)\n",
    "val_y = np.array(val_y, ndmin=1)"
   ]
  },
  {
   "cell_type": "code",
   "execution_count": 10,
   "metadata": {},
   "outputs": [
    {
     "data": {
      "text/plain": [
       "(1656, 2)"
      ]
     },
     "execution_count": 10,
     "metadata": {},
     "output_type": "execute_result"
    }
   ],
   "source": [
    "test_data = get_data(\"data\", \"test\")\n",
    "test_data = np.array(test_data, dtype=object)\n",
    "test_data.shape"
   ]
  },
  {
   "cell_type": "code",
   "execution_count": 11,
   "metadata": {},
   "outputs": [],
   "source": [
    "test_x = []\n",
    "test_y = []\n",
    "for i in range(test_data.shape[0]):\n",
    "    test_x.append(test_data[i][0])\n",
    "    test_y.append(test_data[i][1])\n",
    "test_x = np.array(test_x, ndmin=3)\n",
    "test_y = np.array(test_y, ndmin=1)"
   ]
  },
  {
   "cell_type": "code",
   "execution_count": 12,
   "metadata": {},
   "outputs": [],
   "source": [
    "from sklearn.preprocessing import LabelBinarizer\n",
    "lb = LabelBinarizer()\n",
    "train_y = lb.fit_transform(train_y)\n",
    "lb = LabelBinarizer()\n",
    "val_y = lb.fit_transform(val_y)\n",
    "lb = LabelBinarizer()\n",
    "test_y = lb.fit_transform(test_y)"
   ]
  },
  {
   "cell_type": "code",
   "execution_count": 13,
   "metadata": {},
   "outputs": [
    {
     "data": {
      "text/plain": [
       "((5778, 112, 112, 3),\n",
       " (5778, 5),\n",
       " (826, 112, 112, 3),\n",
       " (826, 5),\n",
       " (1656, 112, 112, 3),\n",
       " (1656, 5))"
      ]
     },
     "execution_count": 13,
     "metadata": {},
     "output_type": "execute_result"
    }
   ],
   "source": [
    "train_x.shape, train_y.shape, val_x.shape, val_y.shape, test_x.shape, test_y.shape"
   ]
  },
  {
   "cell_type": "code",
   "execution_count": 14,
   "metadata": {},
   "outputs": [
    {
     "name": "stderr",
     "output_type": "stream",
     "text": [
      "c:\\Users\\19138\\AppData\\Local\\Programs\\Python\\Python310\\lib\\site-packages\\matplotlib\\text.py:1223: FutureWarning: elementwise comparison failed; returning scalar instead, but in the future will perform elementwise comparison\n",
      "  if s != self._text:\n"
     ]
    },
    {
     "name": "stdout",
     "output_type": "stream",
     "text": [
      "The maximum pixel value is: 1.0 and minimum value is: 0.0\n",
      "The mean pixel value is: 0.5056488005126178 and standard value is: 0.2886352402910434\n"
     ]
    },
    {
     "data": {
      "image/png": "[encoded data removed]",
      "text/plain": [
       "<Figure size 640x480 with 2 Axes>"
      ]
     },
     "metadata": {},
     "output_type": "display_data"
    }
   ],
   "source": [
    "plt.title(train_y[11])\n",
    "plt.imshow(train_x[11], cmap=\"gray\")\n",
    "plt.colorbar()\n",
    "\n",
    "print(f\"The maximum pixel value is: {train_x.max()} and minimum value is: {train_x.min()}\")\n",
    "print(f\"The mean pixel value is: {train_x.mean()} and standard value is: {train_x.std()}\")"
   ]
  },
  {
   "cell_type": "code",
   "execution_count": 18,
   "metadata": {},
   "outputs": [],
   "source": [
    "from tensorflow.keras.layers import Conv2D, AveragePooling2D, BatchNormalization, Conv2DTranspose, Flatten, Dense\n",
    "from tensorflow.keras import Sequential"
   ]
  },
  {
   "cell_type": "code",
   "execution_count": 25,
   "metadata": {},
   "outputs": [],
   "source": [
    "model = Sequential([\n",
    "    tf.keras.Input(shape=(IMG_SIZE, IMG_SIZE, 3)),\n",
    "    Conv2D(128, (3, 3), activation=\"relu\", kernel_initializer='he_normal'),\n",
    "    Conv2D(128, (3, 3), activation=\"relu\", kernel_initializer='he_normal'),\n",
    "    Conv2D(128, (3, 3), activation=\"relu\", kernel_initializer='he_normal'),\n",
    "    BatchNormalization(),\n",
    "    AveragePooling2D((2, 2)),\n",
    "    Conv2D(64, (3, 3), activation=\"relu\", kernel_initializer='he_normal'),\n",
    "    Conv2D(64, (3, 3), activation=\"relu\", kernel_initializer='he_normal'),\n",
    "    Conv2D(64, (3, 3), activation=\"relu\", kernel_initializer='he_normal'),\n",
    "    BatchNormalization(),\n",
    "    AveragePooling2D((2, 2)),\n",
    "    Conv2D(32, (3, 3), activation=\"relu\", kernel_initializer='he_normal'),\n",
    "    Conv2D(32, (3, 3), activation=\"relu\", kernel_initializer='he_normal'),\n",
    "    Conv2D(32, (3, 3), activation=\"relu\", kernel_initializer='he_normal'),\n",
    "    BatchNormalization(),\n",
    "    AveragePooling2D((2, 2)),\n",
    "    Conv2D(16, (3, 3), activation=\"relu\", kernel_initializer='he_normal'),\n",
    "    Conv2D(16, (3, 3), activation=\"relu\", kernel_initializer='he_normal'),\n",
    "    Conv2D(16, (3, 3), activation=\"relu\", kernel_initializer='he_normal'),\n",
    "    Flatten(),\n",
    "    Dense(64, activation=\"relu\", kernel_initializer='he_normal'),\n",
    "    Dense(5, activation=\"softmax\", kernel_initializer='he_normal'),\n",
    "])"
   ]
  },
  {
   "cell_type": "code",
   "execution_count": 26,
   "metadata": {},
   "outputs": [
    {
     "name": "stdout",
     "output_type": "stream",
     "text": [
      "Model: \"sequential_3\"\n",
      "_________________________________________________________________\n",
      " Layer (type)                Output Shape              Param #   \n",
      "=================================================================\n",
      " conv2d_80 (Conv2D)          (None, 110, 110, 128)     3584      \n",
      "                                                                 \n",
      " conv2d_81 (Conv2D)          (None, 108, 108, 128)     147584    \n",
      "                                                                 \n",
      " conv2d_82 (Conv2D)          (None, 106, 106, 128)     147584    \n",
      "                                                                 \n",
      " batch_normalization_26 (Bat  (None, 106, 106, 128)    512       \n",
      " chNormalization)                                                \n",
      "                                                                 \n",
      " average_pooling2d_26 (Avera  (None, 53, 53, 128)      0         \n",
      " gePooling2D)                                                    \n",
      "                                                                 \n",
      " conv2d_83 (Conv2D)          (None, 51, 51, 64)        73792     \n",
      "                                                                 \n",
      " conv2d_84 (Conv2D)          (None, 49, 49, 64)        36928     \n",
      "                                                                 \n",
      " conv2d_85 (Conv2D)          (None, 47, 47, 64)        36928     \n",
      "                                                                 \n",
      " batch_normalization_27 (Bat  (None, 47, 47, 64)       256       \n",
      " chNormalization)                                                \n",
      "                                                                 \n",
      " average_pooling2d_27 (Avera  (None, 23, 23, 64)       0         \n",
      " gePooling2D)                                                    \n",
      "                                                                 \n",
      " conv2d_86 (Conv2D)          (None, 21, 21, 32)        18464     \n",
      "                                                                 \n",
      " conv2d_87 (Conv2D)          (None, 19, 19, 32)        9248      \n",
      "                                                                 \n",
      " conv2d_88 (Conv2D)          (None, 17, 17, 32)        9248      \n",
      "                                                                 \n",
      " batch_normalization_28 (Bat  (None, 17, 17, 32)       128       \n",
      " chNormalization)                                                \n",
      "                                                                 \n",
      " average_pooling2d_28 (Avera  (None, 8, 8, 32)         0         \n",
      " gePooling2D)                                                    \n",
      "                                                                 \n",
      " conv2d_89 (Conv2D)          (None, 6, 6, 16)          4624      \n",
      "                                                                 \n",
      " conv2d_90 (Conv2D)          (None, 4, 4, 16)          2320      \n",
      "                                                                 \n",
      " conv2d_91 (Conv2D)          (None, 2, 2, 16)          2320      \n",
      "                                                                 \n",
      " flatten_3 (Flatten)         (None, 64)                0         \n",
      "                                                                 \n",
      " dense_6 (Dense)             (None, 64)                4160      \n",
      "                                                                 \n",
      " dense_7 (Dense)             (None, 5)                 325       \n",
      "                                                                 \n",
      "=================================================================\n",
      "Total params: 498,005\n",
      "Trainable params: 497,557\n",
      "Non-trainable params: 448\n",
      "_________________________________________________________________\n"
     ]
    }
   ],
   "source": [
    "model.summary()"
   ]
  },
  {
   "cell_type": "code",
   "execution_count": 27,
   "metadata": {},
   "outputs": [],
   "source": [
    "model.compile( optimizer=\"adam\" , loss=\"binary_crossentropy\" , metrics=[\"binary_accuracy\", tf.keras.metrics.AUC()])"
   ]
  },
  {
   "cell_type": "code",
   "execution_count": 28,
   "metadata": {},
   "outputs": [
    {
     "name": "stdout",
     "output_type": "stream",
     "text": [
      "Epoch 1/5\n",
      "181/181 [==============================] - 871s 5s/step - loss: 0.4520 - binary_accuracy: 0.7949 - auc: 0.7265 - val_loss: 0.4537 - val_binary_accuracy: 0.7942 - val_auc: 0.7130\n",
      "Epoch 2/5\n",
      "181/181 [==============================] - 908s 5s/step - loss: 0.4214 - binary_accuracy: 0.8035 - auc: 0.7661 - val_loss: 0.4422 - val_binary_accuracy: 0.7881 - val_auc: 0.7446\n",
      "Epoch 3/5\n",
      "181/181 [==============================] - 1005s 6s/step - loss: 0.4046 - binary_accuracy: 0.8092 - auc: 0.7921 - val_loss: 0.4833 - val_binary_accuracy: 0.7799 - val_auc: 0.7079\n",
      "Epoch 4/5\n",
      "181/181 [==============================] - 1119s 6s/step - loss: 0.3935 - binary_accuracy: 0.8128 - auc: 0.8078 - val_loss: 0.4636 - val_binary_accuracy: 0.7663 - val_auc: 0.7432\n",
      "Epoch 5/5\n",
      "181/181 [==============================] - 986s 5s/step - loss: 0.3864 - binary_accuracy: 0.8147 - auc: 0.8165 - val_loss: 0.3835 - val_binary_accuracy: 0.8191 - val_auc: 0.8185\n"
     ]
    }
   ],
   "source": [
    "hist = model.fit(train_x, train_y, epochs=5 , batch_size=32,\n",
    "                    validation_data=(val_x,val_y), verbose=1)"
   ]
  },
  {
   "cell_type": "code",
   "execution_count": 31,
   "metadata": {},
   "outputs": [],
   "source": [
    "import os.path\n",
    "if os.path.isfile('models/first.h5') is False:\n",
    "    model.save('models/first.h5')"
   ]
  },
  {
   "cell_type": "code",
   "execution_count": null,
   "metadata": {},
   "outputs": [],
   "source": []
  }
 ],
 "metadata": {
  "kernelspec": {
   "display_name": "Python 3",
   "language": "python",
   "name": "python3"
  },
  "language_info": {
   "codemirror_mode": {
    "name": "ipython",
    "version": 3
   },
   "file_extension": ".py",
   "mimetype": "text/x-python",
   "name": "python",
   "nbconvert_exporter": "python",
   "pygments_lexer": "ipython3",
   "version": "3.10.6"
  },
  "orig_nbformat": 4
 },
 "nbformat": 4,
 "nbformat_minor": 2
}
